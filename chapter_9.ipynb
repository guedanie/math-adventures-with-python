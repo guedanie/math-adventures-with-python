{
 "cells": [
  {
   "cell_type": "markdown",
   "metadata": {},
   "source": [
    "# Building Objects with Classes"
   ]
  },
  {
   "cell_type": "markdown",
   "metadata": {},
   "source": [
    "A `class` is a structure that lets you create new types of objects. The object types (usually just called *objects*) can have *properties*, which are vriables, and *methods*, which are functions. THere are time you want to draw multiple objects using Python, but drawing lots of them would be way too much work. Classes make drawing several obejcts with the same properties easy, but they require a specific syntax you'll need to learn. \n",
    "\n",
    "The following example from the official Python website shows how to create a dog object using a class."
   ]
  },
  {
   "cell_type": "code",
   "execution_count": 9,
   "metadata": {},
   "outputs": [],
   "source": [
    "class Dog:\n",
    "    def __init__(self, name):\n",
    "        self.name = name\n",
    "        \n",
    "    def bark(self):\n",
    "        print(\"Woof!\")"
   ]
  },
  {
   "cell_type": "markdown",
   "metadata": {},
   "source": [
    "This creates a new object called `Dog` using class `Dog`. It's customary in Python and many other languages to capitalize the name of a calss, but it'll work regardless. \n",
    "\n",
    "To instantiate, or create, the class, we have to use Python's `__init__` method, which has two underscores before and two after `init`, meaning it's a special method to create (or *construct*) an object. The `__init__` line makes it possibel to create instances of the class (in this case, dogs). In the `__init_` method, we can create any properties of the class we want. Since it's a dog, it can have a name, and because every dog has its own name, we use the self syntax. \n",
    "\n",
    "We can then create a dog with a name using the following line of code: "
   ]
  },
  {
   "cell_type": "code",
   "execution_count": 10,
   "metadata": {},
   "outputs": [],
   "source": [
    "d = Dog(\"Fido\")"
   ]
  },
  {
   "cell_type": "markdown",
   "metadata": {},
   "source": [
    "Now `d` is a `Dog` and it's name is Fido."
   ]
  },
  {
   "cell_type": "code",
   "execution_count": 11,
   "metadata": {},
   "outputs": [
    {
     "data": {
      "text/plain": [
       "'Fido'"
      ]
     },
     "execution_count": 11,
     "metadata": {},
     "output_type": "execute_result"
    }
   ],
   "source": [
    "d.name"
   ]
  },
  {
   "cell_type": "code",
   "execution_count": 12,
   "metadata": {},
   "outputs": [
    {
     "name": "stdout",
     "output_type": "stream",
     "text": [
      "Woof!\n"
     ]
    }
   ],
   "source": [
    "d.bark()"
   ]
  },
  {
   "cell_type": "raw",
   "metadata": {},
   "source": []
  },
  {
   "cell_type": "code",
   "execution_count": null,
   "metadata": {},
   "outputs": [],
   "source": []
  }
 ],
 "metadata": {
  "kernelspec": {
   "display_name": "Python 3",
   "language": "python",
   "name": "python3"
  },
  "language_info": {
   "codemirror_mode": {
    "name": "ipython",
    "version": 3
   },
   "file_extension": ".py",
   "mimetype": "text/x-python",
   "name": "python",
   "nbconvert_exporter": "python",
   "pygments_lexer": "ipython3",
   "version": "3.7.4"
  }
 },
 "nbformat": 4,
 "nbformat_minor": 2
}
