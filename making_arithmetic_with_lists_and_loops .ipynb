{
 "cells": [
  {
   "cell_type": "markdown",
   "metadata": {},
   "source": [
    "# Making Arithmetic with Lists and Loops\n",
    "\n",
    "Most people think doing arithmetic when they think of math. In this chapter, we will learn how to automate some of the tedious parts of arithmetic using Python.\n",
    "\n",
    "FIrst, we need to lorn about math operators and the different data types you can use in Python. Then we can learn how to store and calculate values using variables. \n",
    "\n",
    "# Using Lists to Store Values\n",
    "\n",
    "A *list* is a type of variable that can hold muiltiple values, which is useful for automating repretitve tasks. To declare a list in Python, you simply create a name for the list, use the `=` command like you do with variables, and then encolse the items you wnat to place in the list in square brackets `[]` searating each item using a comma. "
   ]
  },
  {
   "cell_type": "code",
   "execution_count": 2,
   "metadata": {},
   "outputs": [
    {
     "data": {
      "text/plain": [
       "[1, 2, 3]"
      ]
     },
     "execution_count": 2,
     "metadata": {},
     "output_type": "execute_result"
    }
   ],
   "source": [
    "a = [1,2,3]\n",
    "a"
   ]
  },
  {
   "cell_type": "markdown",
   "metadata": {},
   "source": [
    "Often it's useful to create an empty list so you can add values, such as numbers, coordinates, and objects, to it later. To do this, just create list as you would normally bur without values, as shown here: "
   ]
  },
  {
   "cell_type": "code",
   "execution_count": 4,
   "metadata": {},
   "outputs": [
    {
     "data": {
      "text/plain": [
       "[]"
      ]
     },
     "execution_count": 4,
     "metadata": {},
     "output_type": "execute_result"
    }
   ],
   "source": [
    "b = []\n",
    "b"
   ]
  },
  {
   "cell_type": "markdown",
   "metadata": {},
   "source": [
    "# Adding Items to a List\n",
    "\n",
    "To add an item to a list, use the `append()` function"
   ]
  },
  {
   "cell_type": "code",
   "execution_count": 5,
   "metadata": {},
   "outputs": [
    {
     "data": {
      "text/plain": [
       "[4]"
      ]
     },
     "execution_count": 5,
     "metadata": {},
     "output_type": "execute_result"
    }
   ],
   "source": [
    "b.append(4)\n",
    "b"
   ]
  },
  {
   "cell_type": "markdown",
   "metadata": {},
   "source": [
    "First, type the name of the list `b` you wnat to add  to, followed by a period, and then use `append()` to name the item you want to add inside paraentheses. \n",
    "\n",
    "A single list can hold more than one data type, too. For example, you can add text as trings"
   ]
  },
  {
   "cell_type": "code",
   "execution_count": 7,
   "metadata": {},
   "outputs": [
    {
     "data": {
      "text/plain": [
       "[4, 'hello', 'hello']"
      ]
     },
     "execution_count": 7,
     "metadata": {},
     "output_type": "execute_result"
    }
   ],
   "source": [
    "b.append(\"hello\")\n",
    "\n",
    "b"
   ]
  },
  {
   "cell_type": "markdown",
   "metadata": {},
   "source": [
    "# Operating on lists\n",
    "\n",
    "Like on string, you can use additional and multiplication operators on lists, but you can't simply add a number and a list. Instead, you have to append it using concatenation. \n",
    "\n",
    "For example, you can add two lists together using the `+` operator."
   ]
  },
  {
   "cell_type": "code",
   "execution_count": 8,
   "metadata": {},
   "outputs": [
    {
     "data": {
      "text/plain": [
       "[7, True, 8, 'Python']"
      ]
     },
     "execution_count": 8,
     "metadata": {},
     "output_type": "execute_result"
    }
   ],
   "source": [
    "c = [7, True]\n",
    "d = [8, 'Python']\n",
    "\n",
    "c + d"
   ]
  }
 ],
 "metadata": {
  "kernelspec": {
   "display_name": "Python 3",
   "language": "python",
   "name": "python3"
  },
  "language_info": {
   "codemirror_mode": {
    "name": "ipython",
    "version": 3
   },
   "file_extension": ".py",
   "mimetype": "text/x-python",
   "name": "python",
   "nbconvert_exporter": "python",
   "pygments_lexer": "ipython3",
   "version": "3.7.4"
  }
 },
 "nbformat": 4,
 "nbformat_minor": 2
}
